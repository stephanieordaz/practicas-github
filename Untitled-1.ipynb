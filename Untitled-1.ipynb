{
 "cells": [
  {
   "cell_type": "code",
   "execution_count": null,
   "metadata": {},
   "outputs": [],
   "source": [
    "public class Figura {\n",
    "    String nombre;\n",
    "    double area;\n",
    "\n",
    "    public Figura(){\n",
    "        system.out.println(\"se creo una figura\");\n",
    "    }\n",
    "\n",
    "    public Figura (String nombre, double area){\n",
    "        this.nombre = nombre;\n",
    "        this.area = area;\n",
    "    }\n",
    "\n",
    "    public void Area (){\n",
    "        System.out.println(\"el area de la figura \" + nombre + \"es: \" + area);\n",
    "    }\n",
    "\n",
    "    public void Dibujarfigura(){\n",
    "        system.out.println(\"dibujar figura \" +nombre);\n",
    "    }\n",
    "}"
   ]
  },
  {
   "cell_type": "code",
   "execution_count": null,
   "metadata": {},
   "outputs": [],
   "source": [
    "public class Triangulo extends Figura {\n",
    "    double base;\n",
    "    double altura;\n",
    "\n",
    "    public Triangulo(String nombre, double base, double altura){\n",
    "        super(nombre, area:0);\n",
    "        this.base = base;\n",
    "        this.altura = altura;\n",
    "    }\n",
    "\n",
    "}"
   ]
  },
  {
   "cell_type": "code",
   "execution_count": null,
   "metadata": {},
   "outputs": [],
   "source": []
  }
 ],
 "metadata": {
  "language_info": {
   "name": "python"
  }
 },
 "nbformat": 4,
 "nbformat_minor": 2
}
